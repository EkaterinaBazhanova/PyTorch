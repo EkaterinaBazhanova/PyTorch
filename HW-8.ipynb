{
 "cells": [
  {
   "cell_type": "markdown",
   "metadata": {},
   "source": [
    "# Домашнее задание 8. Generative Adversarial Networks"
   ]
  },
  {
   "cell_type": "code",
   "execution_count": 989,
   "metadata": {},
   "outputs": [],
   "source": [
    "#импорт необходимых библиотек и модулей\n",
    "import numpy as np\n",
    "import pandas as pd\n",
    "import random\n",
    "from sklearn.preprocessing import MinMaxScaler\n",
    "\n",
    "import matplotlib.pyplot as plt\n",
    "import matplotlib.patches as mpatches\n",
    "\n",
    "import torch\n",
    "import torch.nn as nn\n",
    "from torch.utils.data import DataLoader\n",
    "from torchvision import datasets"
   ]
  },
  {
   "cell_type": "markdown",
   "metadata": {},
   "source": [
    "## Задание\n",
    "\n",
    "1. Обучить генератор создавать точки, которые будут лежать на графике функции \n",
    " $$y = \\frac{sin(x)}{x} - \\frac{x}{10}$$\n",
    "\n",
    "При выполнении данного задания структура GAN остается той же, но Вам нужно:\n",
    "- Сгенерировать настоящие данные\n",
    "- Изменить архитектуру дискриминатора и генератора\n",
    "- Построить графики"
   ]
  },
  {
   "cell_type": "markdown",
   "metadata": {},
   "source": [
    "## План работы\n",
    "\n",
    "[0. Генерация настоящих данных](#section_0)\n",
    "\n",
    "[1. Dataset и Dataloader](#section_1)\n",
    "\n",
    "[2. Генератор и Дискриминатор](#section_2)\n",
    "\n",
    "[3. Обучение модели GAN](#section_3)"
   ]
  },
  {
   "cell_type": "markdown",
   "metadata": {},
   "source": [
    "### 0. Генерация настоящих данных <a id='section_0'></a>"
   ]
  },
  {
   "cell_type": "markdown",
   "metadata": {},
   "source": [
    "Функция  $y = \\frac{sin(x)}{x} - \\frac{x}{10}$ и ее график"
   ]
  },
  {
   "cell_type": "code",
   "execution_count": 990,
   "metadata": {},
   "outputs": [],
   "source": [
    "#функция вычисления значений заданной функции\n",
    "def func(x):\n",
    "    \"\"\"\n",
    "    x -- значение переменной\n",
    "    \n",
    "    Возвращает значение функции y = (np.sin(x)/x) - (x/10) при заданном х\n",
    "    \"\"\"\n",
    "    y = (np.sin(x)/x) - (x/10)\n",
    "    return y"
   ]
  },
  {
   "cell_type": "code",
   "execution_count": 991,
   "metadata": {},
   "outputs": [
    {
     "data": {
      "image/png": "[encoded data removed]",
      "text/plain": [
       "<Figure size 432x432 with 1 Axes>"
      ]
     },
     "metadata": {
      "needs_background": "light"
     },
     "output_type": "display_data"
    }
   ],
   "source": [
    "# визуализация графика функции\n",
    "\n",
    "# создаем рисунок с координатную плоскость\n",
    "fig, ax = plt.subplots(figsize=(6, 6))\n",
    "\n",
    "# область графика\n",
    "x = np.linspace(-20, 20, 100)\n",
    "\n",
    "# рисуем точки графика\n",
    "ax.scatter(x, y = func(x), color='red')\n",
    "\n",
    "# рисуем график\n",
    "plt.plot(x, func(x), color='blue')\n",
    "\n",
    "# показываем график\n",
    "plt.show()"
   ]
  },
  {
   "cell_type": "markdown",
   "metadata": {},
   "source": [
    "Сгенерируем настроящие данные, используя функцию $y = \\frac{sin(x)}{x} - \\frac{x}{10}$"
   ]
  },
  {
   "cell_type": "code",
   "execution_count": 993,
   "metadata": {},
   "outputs": [],
   "source": [
    "#функция генерации точек, принадлежащих графику заданной функции\n",
    "def point_generator(ax, n):\n",
    "    \"\"\"\n",
    "     [-ax, ax] -- отрезок значений x\n",
    "    n -- количество значений x\n",
    "    \n",
    "    Возвращает датафрейм с координатами точек, принадлежащих графику функции y = (np.sin(x)/x) - (x/10)\n",
    "    \"\"\"\n",
    "    points = pd.DataFrame([(x, func(x)) for x in np.random.uniform(-ax, ax, size=(1, n))[0]], columns=['x', 'y'])\n",
    "    \n",
    "    return points"
   ]
  },
  {
   "cell_type": "code",
   "execution_count": 994,
   "metadata": {},
   "outputs": [
    {
     "data": {
      "text/html": [
       "<div>\n",
       "<style scoped>\n",
       "    .dataframe tbody tr th:only-of-type {\n",
       "        vertical-align: middle;\n",
       "    }\n",
       "\n",
       "    .dataframe tbody tr th {\n",
       "        vertical-align: top;\n",
       "    }\n",
       "\n",
       "    .dataframe thead th {\n",
       "        text-align: right;\n",
       "    }\n",
       "</style>\n",
       "<table border=\"1\" class=\"dataframe\">\n",
       "  <thead>\n",
       "    <tr style=\"text-align: right;\">\n",
       "      <th></th>\n",
       "      <th>x</th>\n",
       "      <th>y</th>\n",
       "    </tr>\n",
       "  </thead>\n",
       "  <tbody>\n",
       "    <tr>\n",
       "      <th>0</th>\n",
       "      <td>8.989359</td>\n",
       "      <td>-0.852015</td>\n",
       "    </tr>\n",
       "    <tr>\n",
       "      <th>1</th>\n",
       "      <td>1.013753</td>\n",
       "      <td>0.735931</td>\n",
       "    </tr>\n",
       "    <tr>\n",
       "      <th>2</th>\n",
       "      <td>-3.488151</td>\n",
       "      <td>0.251439</td>\n",
       "    </tr>\n",
       "    <tr>\n",
       "      <th>3</th>\n",
       "      <td>6.150730</td>\n",
       "      <td>-0.636545</td>\n",
       "    </tr>\n",
       "    <tr>\n",
       "      <th>4</th>\n",
       "      <td>-3.366518</td>\n",
       "      <td>0.270401</td>\n",
       "    </tr>\n",
       "    <tr>\n",
       "      <th>...</th>\n",
       "      <td>...</td>\n",
       "      <td>...</td>\n",
       "    </tr>\n",
       "    <tr>\n",
       "      <th>499995</th>\n",
       "      <td>-2.356811</td>\n",
       "      <td>0.535523</td>\n",
       "    </tr>\n",
       "    <tr>\n",
       "      <th>499996</th>\n",
       "      <td>7.424083</td>\n",
       "      <td>-0.619968</td>\n",
       "    </tr>\n",
       "    <tr>\n",
       "      <th>499997</th>\n",
       "      <td>-2.535841</td>\n",
       "      <td>0.478117</td>\n",
       "    </tr>\n",
       "    <tr>\n",
       "      <th>499998</th>\n",
       "      <td>9.502073</td>\n",
       "      <td>-0.958334</td>\n",
       "    </tr>\n",
       "    <tr>\n",
       "      <th>499999</th>\n",
       "      <td>0.190546</td>\n",
       "      <td>0.974905</td>\n",
       "    </tr>\n",
       "  </tbody>\n",
       "</table>\n",
       "<p>500000 rows × 2 columns</p>\n",
       "</div>"
      ],
      "text/plain": [
       "               x         y\n",
       "0       8.989359 -0.852015\n",
       "1       1.013753  0.735931\n",
       "2      -3.488151  0.251439\n",
       "3       6.150730 -0.636545\n",
       "4      -3.366518  0.270401\n",
       "...          ...       ...\n",
       "499995 -2.356811  0.535523\n",
       "499996  7.424083 -0.619968\n",
       "499997 -2.535841  0.478117\n",
       "499998  9.502073 -0.958334\n",
       "499999  0.190546  0.974905\n",
       "\n",
       "[500000 rows x 2 columns]"
      ]
     },
     "execution_count": 994,
     "metadata": {},
     "output_type": "execute_result"
    }
   ],
   "source": [
    "#датасет с реальными данными (чем больше точек берем, тем лучше результат модели GAN)\n",
    "df_train = point_generator(10, 500000)\n",
    "df_train"
   ]
  },
  {
   "cell_type": "code",
   "execution_count": 995,
   "metadata": {},
   "outputs": [
    {
     "data": {
      "image/png": "[encoded data removed]",
      "text/plain": [
       "<Figure size 432x288 with 1 Axes>"
      ]
     },
     "metadata": {
      "needs_background": "light"
     },
     "output_type": "display_data"
    }
   ],
   "source": [
    "#отрисовка реальных данных\n",
    "x,y = df_train.values.T\n",
    "plt.scatter(x,y,label='real_points')\n",
    "plt.legend()\n",
    "plt.show()"
   ]
  },
  {
   "cell_type": "markdown",
   "metadata": {},
   "source": [
    "Нормализуем данные для обучения"
   ]
  },
  {
   "cell_type": "code",
   "execution_count": 996,
   "metadata": {},
   "outputs": [
    {
     "data": {
      "text/plain": [
       "tensor([[0.9495, 0.0978],\n",
       "        [0.5507, 0.8651],\n",
       "        [0.3256, 0.6310],\n",
       "        ...,\n",
       "        [0.3732, 0.7405],\n",
       "        [0.9751, 0.0464],\n",
       "        [0.5095, 0.9806]])"
      ]
     },
     "execution_count": 996,
     "metadata": {},
     "output_type": "execute_result"
    }
   ],
   "source": [
    "#без нормализации данных результат модели хуже\n",
    "scaler = MinMaxScaler()\n",
    "data_train = scaler.fit_transform(df_train)  \n",
    "data_train = torch.FloatTensor(data_train).float()\n",
    "data_train"
   ]
  },
  {
   "cell_type": "markdown",
   "metadata": {},
   "source": [
    "### 1. Dataset и Dataloader <a id='section_1'></a>"
   ]
  },
  {
   "cell_type": "markdown",
   "metadata": {},
   "source": [
    "Создадим датасет и даталоадер для работы с данными"
   ]
  },
  {
   "cell_type": "code",
   "execution_count": 997,
   "metadata": {},
   "outputs": [],
   "source": [
    "# класс датасета\n",
    "class MyOwnClass(torch.utils.data.Dataset):\n",
    "   \n",
    "    def __init__(self, data):\n",
    "        self._data = data\n",
    "\n",
    "    def __len__(self):\n",
    "        return len(self._data)\n",
    "\n",
    "    def __getitem__(self, idx):\n",
    "        point = self._data[idx] \n",
    "       \n",
    "        return point"
   ]
  },
  {
   "cell_type": "code",
   "execution_count": 998,
   "metadata": {},
   "outputs": [],
   "source": [
    "# создание представителя датасета и его даталоадер\n",
    "train_dataset = MyOwnClass(data_train)\n",
    "\n",
    "train_loader = torch.utils.data.DataLoader(train_dataset,\n",
    "                          batch_size=128,\n",
    "                          shuffle=True,\n",
    "                          drop_last=True,\n",
    "                          num_workers=0)"
   ]
  },
  {
   "cell_type": "code",
   "execution_count": 999,
   "metadata": {},
   "outputs": [
    {
     "name": "stdout",
     "output_type": "stream",
     "text": [
      "torch.Size([128, 2])\n"
     ]
    }
   ],
   "source": [
    "# элементы тренировочного даталоадера\n",
    "for idx, batch in enumerate(train_loader):\n",
    "    print(batch.shape) # 128 батчей с 2 признаками\n",
    "    break"
   ]
  },
  {
   "cell_type": "markdown",
   "metadata": {},
   "source": [
    "### 2. Генератор и Дискриминатор <a id='section_2'></a>"
   ]
  },
  {
   "cell_type": "code",
   "execution_count": 1000,
   "metadata": {},
   "outputs": [],
   "source": [
    "# Функция для построения графиков\n",
    "def plot_points(gen_points, real_points):\n",
    "    # создаем рисунок с координатную плоскость\n",
    "    fig, ax = plt.subplots(figsize=(6, 6))\n",
    "\n",
    "    #отрисовка реальных точек\n",
    "    a,b = (real_points.detach()).T\n",
    "    plt.scatter(a,b, color='green',label='real_points') \n",
    "    \n",
    "    #отрисовка сгенерированных точек\n",
    "    x, y = (gen_points.detach()).T\n",
    "    plt.scatter(x,y, color='red', label='generated_points') \n",
    "\n",
    "    plt.legend()\n",
    "    plt.show()"
   ]
  },
  {
   "cell_type": "markdown",
   "metadata": {},
   "source": [
    "Класс Генератора"
   ]
  },
  {
   "cell_type": "code",
   "execution_count": 1001,
   "metadata": {},
   "outputs": [],
   "source": [
    "class Generator(nn.Module):\n",
    "    def __init__(self):\n",
    "        super().__init__()\n",
    "        \n",
    "        # Использование таких словарей позволяет нам варьировать параметры нашей сети в процессе использования\n",
    "        self.activations = nn.ModuleDict([\n",
    "            ['lrelu', nn.LeakyReLU(0.2, inplace=True)],\n",
    "            ['relu', nn.ReLU()]\n",
    "        ])\n",
    "        \n",
    "        def block(in_feat, out_feat, normalize=True, activation='relu'):\n",
    "            layers = [nn.Linear(in_feat, out_feat)]  # Если мы создаем последовательность слоев - то мы задаем их\n",
    "                                                     # с помощью списка.\n",
    "            if normalize:\n",
    "                layers.append(nn.BatchNorm1d(out_feat))\n",
    "            layers.append(self.activations[activation])  # Эта строчка означает тоже самое что и\n",
    "                                                         # layers.append(nn.LeakyReLU(0.2, inplace=True))\n",
    "            return layers\n",
    "\n",
    "        self.model = nn.Sequential(\n",
    "            *block(latent_dim, 128, normalize=False),  # Звездочка означает unpacking списка\n",
    "            *block(128, 256, activation='lrelu'),\n",
    "            *block(256, 512),\n",
    "            *block(512, 1024),\n",
    "             nn.Linear(1024, 2),\n",
    "             nn.Linear(2, 2),\n",
    "             nn.Tanh()\n",
    "        )\n",
    "        \n",
    "    def forward(self, z):\n",
    "        new_point = self.model(z)\n",
    "        new_point = new_point.reshape(-1, 2)\n",
    "        return new_point "
   ]
  },
  {
   "cell_type": "markdown",
   "metadata": {},
   "source": [
    "Класс кастомного слоя"
   ]
  },
  {
   "cell_type": "code",
   "execution_count": 1002,
   "metadata": {},
   "outputs": [],
   "source": [
    "class CustomLinearLayer(nn.Module):\n",
    "    def __init__(self, size_in, size_out):\n",
    "        super().__init__()\n",
    "        self.size_in, self.size_out = size_in, size_out\n",
    "        \n",
    "        weights = torch.Tensor(size_out, size_in)\n",
    "        self.weights = nn.Parameter(weights) # Обьявляем веса как параметры слоя\n",
    "\n",
    "        bias = torch.Tensor(size_out)\n",
    "        self.bias = nn.Parameter(bias)\n",
    "\n",
    "        nn.init.uniform_(self.weights, -0.005, 0.005) \n",
    "        nn.init.uniform_(self.bias, -0.005, 0.005)  \n",
    "\n",
    "    def forward(self, x):\n",
    "        # По формуле линейного слоя, нам нужно умножить наши данные \n",
    "        # на транспонированные веса и добавить смещение\n",
    "        w_times_x = torch.mm(x, self.weights.t())\n",
    "        return torch.add(w_times_x, self.bias)  "
   ]
  },
  {
   "cell_type": "markdown",
   "metadata": {},
   "source": [
    "Класс Дискриминатора"
   ]
  },
  {
   "cell_type": "code",
   "execution_count": 1003,
   "metadata": {},
   "outputs": [],
   "source": [
    "class Discriminator(nn.Module):\n",
    "    def __init__(self):\n",
    "        super().__init__()\n",
    "\n",
    "        self.model = nn.Sequential(\n",
    "            CustomLinearLayer(2, 512),\n",
    "            nn.LeakyReLU(0.2, inplace=True),\n",
    "            CustomLinearLayer(512, 256),\n",
    "            nn.LeakyReLU(0.2, inplace=True),\n",
    "            CustomLinearLayer(256, 1),\n",
    "            nn.Sigmoid()\n",
    "        )\n",
    "  \n",
    "\n",
    "    def forward(self, img):\n",
    "        img_flat = img\n",
    "        validity = self.model(img_flat)\n",
    "        return validity"
   ]
  },
  {
   "cell_type": "markdown",
   "metadata": {},
   "source": [
    "### 3. Обучение модели GAN <a id='section_3'></a>"
   ]
  },
  {
   "cell_type": "code",
   "execution_count": 1004,
   "metadata": {},
   "outputs": [],
   "source": [
    "n_epochs = 20  # количество эпох\n",
    "lr = 0.0002  # шаг обучения\n",
    "\n",
    "b1 = 0.5  # гиперпараметр для оптимайзера Adam\n",
    "b2 = 0.999  # гиперпараметр для оптимайзера Adam\n",
    "\n",
    "latent_dim = 100  # Размерность случайного вектора, который подается на вход генератору\n",
    "\n",
    "sample_interval = 500  # количество итераций для отображения процесса обучения\n",
    "\n",
    "batch_size = 128"
   ]
  },
  {
   "cell_type": "code",
   "execution_count": 1005,
   "metadata": {},
   "outputs": [],
   "source": [
    "generator = Generator()\n",
    "discriminator = Discriminator()\n",
    "\n",
    "# опитимизатор для каждой сети\n",
    "optimizer_G = torch.optim.Adam(\n",
    "    generator.parameters(),\n",
    "    lr=lr, \n",
    "    betas=(b1, b2)\n",
    ")\n",
    "optimizer_D = torch.optim.Adam(\n",
    "    discriminator.parameters(), \n",
    "    lr=lr, \n",
    "    betas=(b1, b2)\n",
    ")\n",
    "\n",
    "# функция ошибки\n",
    "adversarial_loss = torch.nn.BCELoss()"
   ]
  },
  {
   "cell_type": "code",
   "execution_count": 1006,
   "metadata": {},
   "outputs": [],
   "source": [
    "d_loss_history = []\n",
    "g_loss_history = []"
   ]
  },
  {
   "cell_type": "code",
   "execution_count": 1007,
   "metadata": {},
   "outputs": [
    {
     "data": {
      "text/plain": [
       "<Figure size 432x288 with 0 Axes>"
      ]
     },
     "metadata": {},
     "output_type": "display_data"
    },
    {
     "data": {
      "image/png": "[encoded data removed]",
      "text/plain": [
       "<Figure size 432x432 with 1 Axes>"
      ]
     },
     "metadata": {
      "needs_background": "light"
     },
     "output_type": "display_data"
    },
    {
     "name": "stdout",
     "output_type": "stream",
     "text": [
      "[Epoch 19/20] [Batch 3786/3906]|[D loss: 0.6942075490951538] [G loss: 0.6934964656829834]\n"
     ]
    },
    {
     "data": {
      "image/png": "[encoded data removed]",
      "text/plain": [
       "<Figure size 432x288 with 1 Axes>"
      ]
     },
     "metadata": {
      "needs_background": "light"
     },
     "output_type": "display_data"
    }
   ],
   "source": [
    "red_patch = mpatches.Patch(color='red', label='D loss')\n",
    "green_patch = mpatches.Patch(color='green', label='G loss')\n",
    "\n",
    "\n",
    "for epoch in range(n_epochs):\n",
    "    for i, points in enumerate(train_loader):\n",
    "        \n",
    "##################### Лейблы для данных: 1 - настоящие, 0 - сгенерированные ########\n",
    "        valid = torch.FloatTensor(batch_size, 1).fill_(1.0) #(B,1) -- столбец-лейблов 1\n",
    "        fake = torch.FloatTensor(batch_size, 1).fill_(0.0)  #(B,1)  -- столбец-лейблов 0\n",
    "\n",
    "        real_points = points.type(torch.FloatTensor) #(B,2) -- реальные данные\n",
    "\n",
    "        # Генерация шума (B,latent_dim)\n",
    "        z = torch.FloatTensor(np.random.normal(0, 1, (batch_size, latent_dim)))\n",
    "        # Генерируем данные Генератором на основе шума\n",
    "        gen_points = generator(z)   #(B,2) -- сгенерированные данные\n",
    "        \n",
    "######################  Тренировка дискриминатора    ##########################\n",
    "        \n",
    "        # Получаем предсказания дискриминатора на основе реальных данных\n",
    "        real_pred = discriminator(real_points)  #(B,1)\n",
    "        \n",
    "        # Тут сравниваем предсказанные значения Дискриминатора(на основе настоящих данных) с настоящими\n",
    "        d_real_loss = adversarial_loss(real_pred, valid)\n",
    "        \n",
    "        # Подаем сгенерированые данные на Дискриминатор \n",
    "        fake_pred = discriminator(gen_points) #(B,1)\n",
    "        \n",
    "        # расчитываем ошибку предсказанного с фейковыми лейблами\n",
    "        d_fake_loss = adversarial_loss(fake_pred, fake)\n",
    "        \n",
    "        # И усредняем два лосса в один\n",
    "        d_loss = (d_real_loss + d_fake_loss) / 2\n",
    "\n",
    "        optimizer_D.zero_grad()\n",
    "        d_loss.backward()\n",
    "        optimizer_D.step()\n",
    "\n",
    "######################  Тренировка генератора    ##########################\n",
    "        \n",
    "        # генерация шума\n",
    "        z = torch.FloatTensor(np.random.normal(0, 1, (batch_size, latent_dim))) #(B,latent_dim)\n",
    "        \n",
    "        # Генерируем данные Генератором на основе шума\n",
    "        gen_points = generator(z)  #(B,2)\n",
    "\n",
    "        # Подаем сгенерированые данные на Дискриминатор \n",
    "        fake_pred = discriminator(gen_points)  #(B,1)\n",
    "    \n",
    "        # Тут сравниваем предсказанные значения Дискриминатора (на основе сгенерировнных данных) с настоящими\n",
    "        g_loss = adversarial_loss(fake_pred, valid)\n",
    "        \n",
    "        # Делаем шаг обучения нашего Генератора\n",
    "        optimizer_G.zero_grad()\n",
    "        g_loss.backward()\n",
    "        optimizer_G.step()\n",
    "\n",
    "        \n",
    "######## Отображение процесса обучения и вывод функций потерь ############\n",
    "        batches_done = epoch * len(train_loader) + i\n",
    "    \n",
    "        if batches_done % sample_interval == 0:\n",
    "            with torch.no_grad():\n",
    "                plt.clf()\n",
    "                display.clear_output(wait=False)\n",
    "                plot_points(gen_points, real_points)\n",
    "                \n",
    "                print(f\"[Epoch {epoch}/{n_epochs}] [Batch {i}/{len(train_loader)}]\", end='|')\n",
    "                print(f'[D loss: {d_loss.item()}] [G loss: {g_loss.item()}]') \n",
    "\n",
    "\n",
    "                d_loss = d_loss.detach()  #новый тензор без градиента\n",
    "                g_loss = g_loss.detach()\n",
    "\n",
    "                d_loss_history.append(d_loss)\n",
    "                g_loss_history.append(g_loss)\n",
    "\n",
    "                plt.plot(np.array(d_loss_history), label='D loss')\n",
    "                plt.plot(np.array(g_loss_history), label='G loss')\n",
    "                plt.legend()\n",
    "                plt.show()        "
   ]
  }
 ],
 "metadata": {
  "kernelspec": {
   "display_name": "Python 3",
   "language": "python",
   "name": "python3"
  },
  "language_info": {
   "codemirror_mode": {
    "name": "ipython",
    "version": 3
   },
   "file_extension": ".py",
   "mimetype": "text/x-python",
   "name": "python",
   "nbconvert_exporter": "python",
   "pygments_lexer": "ipython3",
   "version": "3.8.5"
  }
 },
 "nbformat": 4,
 "nbformat_minor": 4
}
