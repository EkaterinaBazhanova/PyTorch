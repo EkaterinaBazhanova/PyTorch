{
 "cells": [
  {
   "cell_type": "markdown",
   "metadata": {},
   "source": [
    "# Домашнее задание №1"
   ]
  },
  {
   "cell_type": "code",
   "execution_count": 250,
   "metadata": {},
   "outputs": [],
   "source": [
    "#  №0. pip install torch torchvision\n",
    "import torch"
   ]
  },
  {
   "cell_type": "code",
   "execution_count": 251,
   "metadata": {},
   "outputs": [
    {
     "data": {
      "text/plain": [
       "(tensor([[[1., 1., 1., 1., 1.],\n",
       "          [2., 2., 2., 2., 2.],\n",
       "          [3., 3., 3., 3., 3.],\n",
       "          [4., 4., 4., 4., 4.]],\n",
       " \n",
       "         [[1., 1., 1., 1., 1.],\n",
       "          [2., 2., 2., 2., 2.],\n",
       "          [3., 3., 3., 3., 3.],\n",
       "          [4., 4., 4., 4., 4.]],\n",
       " \n",
       "         [[1., 1., 1., 1., 1.],\n",
       "          [2., 2., 2., 2., 2.],\n",
       "          [3., 3., 3., 3., 3.],\n",
       "          [4., 4., 4., 4., 4.]]]),\n",
       " tensor([[[-1.7181,  0.7462,  0.0174, -2.6310,  0.8026],\n",
       "          [ 0.8942, -1.0792, -1.5135,  0.3535,  0.0228],\n",
       "          [ 1.1378, -0.1720,  0.3407, -0.8262, -0.6021],\n",
       "          [ 0.5701, -0.0956,  1.3401, -0.5834, -0.9137]],\n",
       " \n",
       "         [[ 0.5801, -1.1524,  1.1603, -0.4561, -0.5784],\n",
       "          [-0.5211,  1.1087, -1.2720, -0.8053,  1.1849],\n",
       "          [-0.6044, -1.5999,  0.4108, -1.0160, -0.5624],\n",
       "          [ 1.1808, -0.5094, -0.4535,  0.1717,  0.9704]],\n",
       " \n",
       "         [[ 1.2289, -0.9833,  0.8134, -0.0929, -0.5941],\n",
       "          [-0.2322,  0.3079, -1.4246,  0.6403, -1.1102],\n",
       "          [ 0.3906,  2.7973,  0.9921,  1.0709, -0.6895],\n",
       "          [ 1.3419, -0.4650, -0.7586,  0.3872, -0.7868]]]))"
      ]
     },
     "execution_count": 251,
     "metadata": {},
     "output_type": "execute_result"
    }
   ],
   "source": [
    "#  №1. Создайте случайный FloatTensor размера 3x4x5\n",
    "# 3x4x5 -- [T0,T1,T2], где Ti -- тензор размера 4х5, i in {0,1,2}\n",
    "\n",
    "#задание вручную\n",
    "x = torch.FloatTensor([[[1,1,1,1,1], \n",
    "                        [2,2,2,2,2], \n",
    "                        [3,3,3,3,3], \n",
    "                        [4,4,4,4,4]], \n",
    "                       \n",
    "                       [[1,1,1,1,1], \n",
    "                        [2,2,2,2,2], \n",
    "                        [3,3,3,3,3], \n",
    "                        [4,4,4,4,4]],\n",
    "                       \n",
    "                       [[1,1,1,1,1], \n",
    "                        [2,2,2,2,2], \n",
    "                        [3,3,3,3,3], \n",
    "                        [4,4,4,4,4]]])\n",
    "\n",
    "#задание случайными числами\n",
    "y = torch.randn(3, 4, 5)\n",
    "\n",
    "x, y"
   ]
  },
  {
   "cell_type": "code",
   "execution_count": 252,
   "metadata": {},
   "outputs": [
    {
     "name": "stdout",
     "output_type": "stream",
     "text": [
      "Тензор x:  torch.FloatTensor torch.Size([3, 4, 5])\n",
      "Тензор y:  torch.FloatTensor torch.Size([3, 4, 5])\n"
     ]
    }
   ],
   "source": [
    "# №2.Выведите его форму (shape)\n",
    "print('Тензор x: ', x.type(), x.shape)\n",
    "print('Тензор y: ', y.type(), y.shape)"
   ]
  },
  {
   "cell_type": "code",
   "execution_count": 253,
   "metadata": {},
   "outputs": [
    {
     "data": {
      "text/plain": [
       "(tensor([[1., 1., 1., 1., 1., 2., 2., 2., 2., 2.],\n",
       "         [3., 3., 3., 3., 3., 4., 4., 4., 4., 4.],\n",
       "         [1., 1., 1., 1., 1., 2., 2., 2., 2., 2.],\n",
       "         [3., 3., 3., 3., 3., 4., 4., 4., 4., 4.],\n",
       "         [1., 1., 1., 1., 1., 2., 2., 2., 2., 2.],\n",
       "         [3., 3., 3., 3., 3., 4., 4., 4., 4., 4.]]),\n",
       " torch.Size([6, 10]))"
      ]
     },
     "execution_count": 253,
     "metadata": {},
     "output_type": "execute_result"
    }
   ],
   "source": [
    "# №3.Приведите его к форме 6 X 10\n",
    "x_r = torch.reshape(x, [6, 10])\n",
    "x_r, x_r.shape"
   ]
  },
  {
   "cell_type": "code",
   "execution_count": 254,
   "metadata": {},
   "outputs": [
    {
     "data": {
      "text/plain": [
       "tensor([[[ 1.,  4.,  2.,  2.,  1.],\n",
       "         [ 2.,  8.,  4.,  4.,  2.],\n",
       "         [ 3., 12.,  6.,  6.,  3.],\n",
       "         [ 4., 16.,  8.,  8.,  4.]],\n",
       "\n",
       "        [[ 1.,  4.,  2.,  2.,  1.],\n",
       "         [ 2.,  8.,  4.,  4.,  2.],\n",
       "         [ 3., 12.,  6.,  6.,  3.],\n",
       "         [ 4., 16.,  8.,  8.,  4.]],\n",
       "\n",
       "        [[ 1.,  4.,  2.,  2.,  1.],\n",
       "         [ 2.,  8.,  4.,  4.,  2.],\n",
       "         [ 3., 12.,  6.,  6.,  3.],\n",
       "         [ 4., 16.,  8.,  8.,  4.]]])"
      ]
     },
     "execution_count": 254,
     "metadata": {},
     "output_type": "execute_result"
    }
   ],
   "source": [
    "# №4. Умножьте его на вектор [1, 4, 2, 2, 1] поэлементно\n",
    "import numpy as np\n",
    "\n",
    "# тензор до изменения формы\n",
    "a = torch.tensor([1, 4, 2, 2, 1])\n",
    "x * a"
   ]
  },
  {
   "cell_type": "code",
   "execution_count": 255,
   "metadata": {},
   "outputs": [
    {
     "data": {
      "text/plain": [
       "tensor([[ 1.,  4.,  2.,  2.,  1.,  2.,  8.,  4.,  4.,  2.],\n",
       "        [ 3., 12.,  6.,  6.,  3.,  4., 16.,  8.,  8.,  4.],\n",
       "        [ 1.,  4.,  2.,  2.,  1.,  2.,  8.,  4.,  4.,  2.],\n",
       "        [ 3., 12.,  6.,  6.,  3.,  4., 16.,  8.,  8.,  4.],\n",
       "        [ 1.,  4.,  2.,  2.,  1.,  2.,  8.,  4.,  4.,  2.],\n",
       "        [ 3., 12.,  6.,  6.,  3.,  4., 16.,  8.,  8.,  4.]])"
      ]
     },
     "execution_count": 255,
     "metadata": {},
     "output_type": "execute_result"
    }
   ],
   "source": [
    "# тензор после изменения формы\n",
    "a_r = a.repeat(1,2)\n",
    "x_r * a_r"
   ]
  },
  {
   "cell_type": "code",
   "execution_count": 256,
   "metadata": {},
   "outputs": [
    {
     "data": {
      "text/plain": [
       "tensor([[ 25.,  55.,  25.,  55.,  25.,  55.],\n",
       "        [ 55., 125.,  55., 125.,  55., 125.],\n",
       "        [ 25.,  55.,  25.,  55.,  25.,  55.],\n",
       "        [ 55., 125.,  55., 125.,  55., 125.],\n",
       "        [ 25.,  55.,  25.,  55.,  25.,  55.],\n",
       "        [ 55., 125.,  55., 125.,  55., 125.]])"
      ]
     },
     "execution_count": 256,
     "metadata": {},
     "output_type": "execute_result"
    }
   ],
   "source": [
    "# №5. Умножьте тензор матрично на себя, чтобы результат был размерности 6x6\n",
    "x_r @ x_r.T"
   ]
  },
  {
   "cell_type": "code",
   "execution_count": 257,
   "metadata": {},
   "outputs": [
    {
     "name": "stdout",
     "output_type": "stream",
     "text": [
      "Значение функции y в точке: -148.5\n",
      "Производная функции y по x в точке:  3.0\n",
      "Производная функции y по z в точке:  1.0\n",
      "Производная функции y по t в точке:  -75.0\n"
     ]
    }
   ],
   "source": [
    "# №6. Посчитайте производную функции y = x**3 + z - 75*t в точке (1, 0.5, 2)\n",
    "\n",
    "x = Variable(torch.Tensor([1]), requires_grad = True) #переменная является обучаемой\n",
    "z = Variable(torch.Tensor([0.5]), requires_grad = True) #переменная является обучаемой\n",
    "t = Variable(torch.Tensor([2]), requires_grad = True) #переменная является обучаемой\n",
    "\n",
    "y = x**3 + z - 75*t\n",
    "print('Значение функции y в точке:', y.item())\n",
    "\n",
    "y.backward() #считаем производную по всем переменным\n",
    "\n",
    "print('Производная функции y по x в точке: ', x.grad.item())\n",
    "print('Производная функции y по z в точке: ', z.grad.item())\n",
    "print('Производная функции y по t в точке: ', t.grad.item()) #частные производные"
   ]
  },
  {
   "cell_type": "code",
   "execution_count": 258,
   "metadata": {},
   "outputs": [
    {
     "data": {
      "text/plain": [
       "(tensor([[1., 1., 1., 1., 1., 1.],\n",
       "         [1., 1., 1., 1., 1., 1.],\n",
       "         [1., 1., 1., 1., 1., 1.],\n",
       "         [1., 1., 1., 1., 1., 1.],\n",
       "         [1., 1., 1., 1., 1., 1.]]),\n",
       " torch.Size([5, 6]))"
      ]
     },
     "execution_count": 258,
     "metadata": {},
     "output_type": "execute_result"
    }
   ],
   "source": [
    "# №7. Создайте единичный тензор размера 5x6\n",
    "e = torch.ones([5, 6])\n",
    "e, e.shape"
   ]
  },
  {
   "cell_type": "code",
   "execution_count": 259,
   "metadata": {},
   "outputs": [
    {
     "data": {
      "text/plain": [
       "array([[1., 1., 1., 1., 1., 1.],\n",
       "       [1., 1., 1., 1., 1., 1.],\n",
       "       [1., 1., 1., 1., 1., 1.],\n",
       "       [1., 1., 1., 1., 1., 1.],\n",
       "       [1., 1., 1., 1., 1., 1.]], dtype=float32)"
      ]
     },
     "execution_count": 259,
     "metadata": {},
     "output_type": "execute_result"
    }
   ],
   "source": [
    "# №8. Переведите его в формат numpy\n",
    "e = e.numpy()\n",
    "e"
   ]
  }
 ],
 "metadata": {
  "kernelspec": {
   "display_name": "Python 3",
   "language": "python",
   "name": "python3"
  },
  "language_info": {
   "codemirror_mode": {
    "name": "ipython",
    "version": 3
   },
   "file_extension": ".py",
   "mimetype": "text/x-python",
   "name": "python",
   "nbconvert_exporter": "python",
   "pygments_lexer": "ipython3",
   "version": "3.8.5"
  }
 },
 "nbformat": 4,
 "nbformat_minor": 2
}
