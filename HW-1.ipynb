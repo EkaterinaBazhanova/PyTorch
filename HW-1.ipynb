{
 "cells": [
  {
   "cell_type": "markdown",
   "metadata": {},
   "source": [
    "# Домашнее задание №1"
   ]
  },
  {
   "cell_type": "code",
   "execution_count": 283,
   "metadata": {},
   "outputs": [],
   "source": [
    "#  №0. pip install torch torchvision\n",
    "import torch"
   ]
  },
  {
   "cell_type": "code",
   "execution_count": 284,
   "metadata": {},
   "outputs": [
    {
     "data": {
      "text/plain": [
       "(tensor([[[1., 1., 1., 1., 1.],\n",
       "          [2., 2., 2., 2., 2.],\n",
       "          [3., 3., 3., 3., 3.],\n",
       "          [4., 4., 4., 4., 4.]],\n",
       " \n",
       "         [[1., 1., 1., 1., 1.],\n",
       "          [2., 2., 2., 2., 2.],\n",
       "          [3., 3., 3., 3., 3.],\n",
       "          [4., 4., 4., 4., 4.]],\n",
       " \n",
       "         [[1., 1., 1., 1., 1.],\n",
       "          [2., 2., 2., 2., 2.],\n",
       "          [3., 3., 3., 3., 3.],\n",
       "          [4., 4., 4., 4., 4.]]]),\n",
       " tensor([[[-1.1296e+00, -3.3618e-01,  4.1756e-01,  2.0322e-01, -6.7322e-01],\n",
       "          [-5.2487e-01,  7.6582e-01, -6.7262e-01, -1.3538e+00, -8.7185e-01],\n",
       "          [ 5.7152e-01,  7.8056e-01,  1.5534e-03,  1.8716e+00, -9.8426e-01],\n",
       "          [ 1.9177e+00,  1.2524e+00,  6.7699e-02, -1.8298e+00,  9.5581e-01]],\n",
       " \n",
       "         [[ 3.3777e-01, -1.2843e-02,  1.8645e+00, -2.0056e+00, -1.8494e-01],\n",
       "          [-5.9428e-01, -6.9271e-01,  3.4932e-01, -1.0565e+00,  2.0672e+00],\n",
       "          [-8.0803e-01, -1.1842e+00, -2.0218e+00, -1.3432e+00,  6.3282e-01],\n",
       "          [ 7.7571e-01,  9.4250e-01, -1.1210e+00,  1.2559e+00, -6.6657e-01]],\n",
       " \n",
       "         [[ 1.8574e+00,  1.6648e-02,  1.4329e-01,  7.0806e-01, -2.0603e-01],\n",
       "          [-1.6474e+00, -4.8106e-01,  7.5609e-01,  9.9969e-01, -5.0451e-01],\n",
       "          [ 4.3030e-02, -9.3201e-01,  7.5899e-01, -1.0452e+00, -2.2669e-01],\n",
       "          [-1.3653e-01, -1.0298e+00, -4.2997e-01, -1.0353e+00,  5.3608e-01]]]))"
      ]
     },
     "execution_count": 284,
     "metadata": {},
     "output_type": "execute_result"
    }
   ],
   "source": [
    "#  №1. Создайте случайный FloatTensor размера 3x4x5\n",
    "# 3x4x5 -- [T0,T1,T2], где Ti -- тензор размера 4х5, i in {0,1,2}\n",
    "\n",
    "#задание вручную\n",
    "x = torch.FloatTensor([[[1,1,1,1,1], \n",
    "                        [2,2,2,2,2], \n",
    "                        [3,3,3,3,3], \n",
    "                        [4,4,4,4,4]], \n",
    "                       \n",
    "                       [[1,1,1,1,1], \n",
    "                        [2,2,2,2,2], \n",
    "                        [3,3,3,3,3], \n",
    "                        [4,4,4,4,4]],\n",
    "                       \n",
    "                       [[1,1,1,1,1], \n",
    "                        [2,2,2,2,2], \n",
    "                        [3,3,3,3,3], \n",
    "                        [4,4,4,4,4]]])\n",
    "\n",
    "#задание случайными числами\n",
    "y = torch.randn(3, 4, 5)\n",
    "\n",
    "x, y"
   ]
  },
  {
   "cell_type": "code",
   "execution_count": 285,
   "metadata": {},
   "outputs": [
    {
     "name": "stdout",
     "output_type": "stream",
     "text": [
      "Тензор x:  torch.FloatTensor torch.Size([3, 4, 5])\n",
      "Тензор y:  torch.FloatTensor torch.Size([3, 4, 5])\n"
     ]
    }
   ],
   "source": [
    "# №2.Выведите его форму (shape)\n",
    "print('Тензор x: ', x.type(), x.shape)\n",
    "print('Тензор y: ', y.type(), y.shape)"
   ]
  },
  {
   "cell_type": "code",
   "execution_count": 286,
   "metadata": {},
   "outputs": [
    {
     "data": {
      "text/plain": [
       "(tensor([[1., 1., 1., 1., 1., 2., 2., 2., 2., 2.],\n",
       "         [3., 3., 3., 3., 3., 4., 4., 4., 4., 4.],\n",
       "         [1., 1., 1., 1., 1., 2., 2., 2., 2., 2.],\n",
       "         [3., 3., 3., 3., 3., 4., 4., 4., 4., 4.],\n",
       "         [1., 1., 1., 1., 1., 2., 2., 2., 2., 2.],\n",
       "         [3., 3., 3., 3., 3., 4., 4., 4., 4., 4.]]),\n",
       " torch.Size([6, 10]))"
      ]
     },
     "execution_count": 286,
     "metadata": {},
     "output_type": "execute_result"
    }
   ],
   "source": [
    "# №3.Приведите его к форме 6 X 10\n",
    "x = torch.reshape(x, [6, 10])\n",
    "x, x.shape"
   ]
  },
  {
   "cell_type": "code",
   "execution_count": 287,
   "metadata": {},
   "outputs": [
    {
     "data": {
      "text/plain": [
       "('torch.IntTensor', tensor([0, 0, 0, 0, 0, 0, 0, 0, 0, 0], dtype=torch.int32))"
      ]
     },
     "execution_count": 287,
     "metadata": {},
     "output_type": "execute_result"
    }
   ],
   "source": [
    "# № 4. Создайте случайный IntTensor размера 10\n",
    "\n",
    "a = torch.IntTensor(10)\n",
    "a.type(), a"
   ]
  },
  {
   "cell_type": "code",
   "execution_count": 288,
   "metadata": {},
   "outputs": [
    {
     "data": {
      "text/plain": [
       "tensor([[0., 0., 0., 0., 0., 0., 0., 0., 0., 0.],\n",
       "        [0., 0., 0., 0., 0., 0., 0., 0., 0., 0.],\n",
       "        [0., 0., 0., 0., 0., 0., 0., 0., 0., 0.],\n",
       "        [0., 0., 0., 0., 0., 0., 0., 0., 0., 0.],\n",
       "        [0., 0., 0., 0., 0., 0., 0., 0., 0., 0.],\n",
       "        [0., 0., 0., 0., 0., 0., 0., 0., 0., 0.]])"
      ]
     },
     "execution_count": 288,
     "metadata": {},
     "output_type": "execute_result"
    }
   ],
   "source": [
    "# № 5. Умножьте созданный FloatTensor на созданный IntTensor поэлементно\n",
    "x * a"
   ]
  },
  {
   "cell_type": "code",
   "execution_count": 289,
   "metadata": {},
   "outputs": [
    {
     "data": {
      "text/plain": [
       "tensor([[ 25.,  55.,  25.,  55.,  25.,  55.],\n",
       "        [ 55., 125.,  55., 125.,  55., 125.],\n",
       "        [ 25.,  55.,  25.,  55.,  25.,  55.],\n",
       "        [ 55., 125.,  55., 125.,  55., 125.],\n",
       "        [ 25.,  55.,  25.,  55.,  25.,  55.],\n",
       "        [ 55., 125.,  55., 125.,  55., 125.]])"
      ]
     },
     "execution_count": 289,
     "metadata": {},
     "output_type": "execute_result"
    }
   ],
   "source": [
    "# №6. Умножьте тензор матрично на себя, чтобы результат был размерности 6x6\n",
    "x @ x.T"
   ]
  },
  {
   "cell_type": "code",
   "execution_count": 290,
   "metadata": {},
   "outputs": [
    {
     "name": "stdout",
     "output_type": "stream",
     "text": [
      "Значение функции y в точке: -148.5\n",
      "Производная функции y по x в точке:  3.0\n",
      "Производная функции y по z в точке:  1.0\n",
      "Производная функции y по t в точке:  -75.0\n"
     ]
    }
   ],
   "source": [
    "# №7. Посчитайте производную функции y = x**3 + z - 75*t в точке (1, 0.5, 2)\n",
    "\n",
    "x = Variable(torch.Tensor([1]), requires_grad = True) #переменная является обучаемой\n",
    "z = Variable(torch.Tensor([0.5]), requires_grad = True) #переменная является обучаемой\n",
    "t = Variable(torch.Tensor([2]), requires_grad = True) #переменная является обучаемой\n",
    "\n",
    "y = x**3 + z - 75*t\n",
    "print('Значение функции y в точке:', y.item())\n",
    "\n",
    "y.backward() #считаем производную по всем переменным\n",
    "\n",
    "print('Производная функции y по x в точке: ', x.grad.item())\n",
    "print('Производная функции y по z в точке: ', z.grad.item())\n",
    "print('Производная функции y по t в точке: ', t.grad.item()) #частные производные"
   ]
  },
  {
   "cell_type": "code",
   "execution_count": 291,
   "metadata": {},
   "outputs": [
    {
     "data": {
      "text/plain": [
       "(tensor([[1., 1., 1., 1., 1., 1.],\n",
       "         [1., 1., 1., 1., 1., 1.],\n",
       "         [1., 1., 1., 1., 1., 1.],\n",
       "         [1., 1., 1., 1., 1., 1.],\n",
       "         [1., 1., 1., 1., 1., 1.]]),\n",
       " torch.Size([5, 6]))"
      ]
     },
     "execution_count": 291,
     "metadata": {},
     "output_type": "execute_result"
    }
   ],
   "source": [
    "# №8. Создайте единичный тензор размера 5x6\n",
    "e = torch.ones([5, 6])\n",
    "e, e.shape"
   ]
  },
  {
   "cell_type": "code",
   "execution_count": 292,
   "metadata": {},
   "outputs": [
    {
     "data": {
      "text/plain": [
       "array([[1., 1., 1., 1., 1., 1.],\n",
       "       [1., 1., 1., 1., 1., 1.],\n",
       "       [1., 1., 1., 1., 1., 1.],\n",
       "       [1., 1., 1., 1., 1., 1.],\n",
       "       [1., 1., 1., 1., 1., 1.]], dtype=float32)"
      ]
     },
     "execution_count": 292,
     "metadata": {},
     "output_type": "execute_result"
    }
   ],
   "source": [
    "# №9. Переведите его в формат numpy\n",
    "e = e.numpy()\n",
    "e"
   ]
  }
 ],
 "metadata": {
  "kernelspec": {
   "display_name": "Python 3",
   "language": "python",
   "name": "python3"
  },
  "language_info": {
   "codemirror_mode": {
    "name": "ipython",
    "version": 3
   },
   "file_extension": ".py",
   "mimetype": "text/x-python",
   "name": "python",
   "nbconvert_exporter": "python",
   "pygments_lexer": "ipython3",
   "version": "3.8.5"
  }
 },
 "nbformat": 4,
 "nbformat_minor": 2
}
