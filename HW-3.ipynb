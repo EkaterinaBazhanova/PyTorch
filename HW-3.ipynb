{
 "cells": [
  {
   "cell_type": "markdown",
   "metadata": {},
   "source": [
    "# Домашнее задание №3. Dataset, Dataloader, BatchNorm, Dropout, Оптимизация"
   ]
  },
  {
   "cell_type": "code",
   "execution_count": 261,
   "metadata": {},
   "outputs": [],
   "source": [
    "# загрузка датасета\n",
    "from sklearn.datasets import fetch_california_housing\n",
    "import pandas as pd\n",
    "import numpy as np\n",
    "\n",
    "# разделение датасета\n",
    "from sklearn.model_selection import train_test_split\n",
    "\n",
    "# преобразование данных\n",
    "from sklearn.preprocessing import MinMaxScaler\n",
    "from torchvision import transforms\n",
    "\n",
    "#построение модели\n",
    "import torch\n",
    "import torch.nn as nn\n",
    "import torch.nn.functional as F\n",
    "\n",
    "# метрика\n",
    "import torchmetrics\n",
    "\n",
    "#отрисовка графиков\n",
    "from matplotlib import pyplot as plt "
   ]
  },
  {
   "cell_type": "markdown",
   "metadata": {},
   "source": [
    "## Задание\n",
    "\n",
    "1. Создать Dataset для загрузки данных (sklearn.datasets.fetch_california_housing, train-test разделение нужно сделать с помощью sklearn random_state=13, test_size = 0.25)\n",
    "\n",
    "2. Обернуть его в Dataloader\n",
    "\n",
    "3. Написать архитектуру сети, которая предсказывает стоимость недвижимости. Сеть должна включать BatchNorm слои и Dropout (или НЕ включать, но нужно обосновать)\n",
    "\n",
    "4. Сравнить сходимость Adam, RMSProp и SGD, сделать вывод по качеству работы модели"
   ]
  },
  {
   "cell_type": "markdown",
   "metadata": {},
   "source": [
    "## План работы\n",
    "\n",
    "[0. Загрузка данных](#section_0)\n",
    "\n",
    "[1. Dataset и Dataloader](#section_1)\n",
    "\n",
    "[2. Построение нейронной сети](#section_2)\n",
    "\n",
    "[3. Модели нейронной сети с разными оптимизаторами](#section_3)\n",
    "\n",
    "[4. Сводная таблица метрик моделей и вывод](#section_4)"
   ]
  },
  {
   "cell_type": "markdown",
   "metadata": {},
   "source": [
    "## 0. Загрузка данных<a id='section_0'></a>"
   ]
  },
  {
   "cell_type": "code",
   "execution_count": 262,
   "metadata": {},
   "outputs": [
    {
     "data": {
      "text/html": [
       "<div>\n",
       "<style scoped>\n",
       "    .dataframe tbody tr th:only-of-type {\n",
       "        vertical-align: middle;\n",
       "    }\n",
       "\n",
       "    .dataframe tbody tr th {\n",
       "        vertical-align: top;\n",
       "    }\n",
       "\n",
       "    .dataframe thead th {\n",
       "        text-align: right;\n",
       "    }\n",
       "</style>\n",
       "<table border=\"1\" class=\"dataframe\">\n",
       "  <thead>\n",
       "    <tr style=\"text-align: right;\">\n",
       "      <th></th>\n",
       "      <th>MedInc</th>\n",
       "      <th>HouseAge</th>\n",
       "      <th>AveRooms</th>\n",
       "      <th>AveBedrms</th>\n",
       "      <th>Population</th>\n",
       "      <th>AveOccup</th>\n",
       "      <th>Latitude</th>\n",
       "      <th>Longitude</th>\n",
       "      <th>MedHouseVal</th>\n",
       "    </tr>\n",
       "  </thead>\n",
       "  <tbody>\n",
       "    <tr>\n",
       "      <th>0</th>\n",
       "      <td>8.3252</td>\n",
       "      <td>41.0</td>\n",
       "      <td>6.984127</td>\n",
       "      <td>1.023810</td>\n",
       "      <td>322.0</td>\n",
       "      <td>2.555556</td>\n",
       "      <td>37.88</td>\n",
       "      <td>-122.23</td>\n",
       "      <td>4.526</td>\n",
       "    </tr>\n",
       "    <tr>\n",
       "      <th>1</th>\n",
       "      <td>8.3014</td>\n",
       "      <td>21.0</td>\n",
       "      <td>6.238137</td>\n",
       "      <td>0.971880</td>\n",
       "      <td>2401.0</td>\n",
       "      <td>2.109842</td>\n",
       "      <td>37.86</td>\n",
       "      <td>-122.22</td>\n",
       "      <td>3.585</td>\n",
       "    </tr>\n",
       "    <tr>\n",
       "      <th>2</th>\n",
       "      <td>7.2574</td>\n",
       "      <td>52.0</td>\n",
       "      <td>8.288136</td>\n",
       "      <td>1.073446</td>\n",
       "      <td>496.0</td>\n",
       "      <td>2.802260</td>\n",
       "      <td>37.85</td>\n",
       "      <td>-122.24</td>\n",
       "      <td>3.521</td>\n",
       "    </tr>\n",
       "    <tr>\n",
       "      <th>3</th>\n",
       "      <td>5.6431</td>\n",
       "      <td>52.0</td>\n",
       "      <td>5.817352</td>\n",
       "      <td>1.073059</td>\n",
       "      <td>558.0</td>\n",
       "      <td>2.547945</td>\n",
       "      <td>37.85</td>\n",
       "      <td>-122.25</td>\n",
       "      <td>3.413</td>\n",
       "    </tr>\n",
       "    <tr>\n",
       "      <th>4</th>\n",
       "      <td>3.8462</td>\n",
       "      <td>52.0</td>\n",
       "      <td>6.281853</td>\n",
       "      <td>1.081081</td>\n",
       "      <td>565.0</td>\n",
       "      <td>2.181467</td>\n",
       "      <td>37.85</td>\n",
       "      <td>-122.25</td>\n",
       "      <td>3.422</td>\n",
       "    </tr>\n",
       "    <tr>\n",
       "      <th>...</th>\n",
       "      <td>...</td>\n",
       "      <td>...</td>\n",
       "      <td>...</td>\n",
       "      <td>...</td>\n",
       "      <td>...</td>\n",
       "      <td>...</td>\n",
       "      <td>...</td>\n",
       "      <td>...</td>\n",
       "      <td>...</td>\n",
       "    </tr>\n",
       "    <tr>\n",
       "      <th>20635</th>\n",
       "      <td>1.5603</td>\n",
       "      <td>25.0</td>\n",
       "      <td>5.045455</td>\n",
       "      <td>1.133333</td>\n",
       "      <td>845.0</td>\n",
       "      <td>2.560606</td>\n",
       "      <td>39.48</td>\n",
       "      <td>-121.09</td>\n",
       "      <td>0.781</td>\n",
       "    </tr>\n",
       "    <tr>\n",
       "      <th>20636</th>\n",
       "      <td>2.5568</td>\n",
       "      <td>18.0</td>\n",
       "      <td>6.114035</td>\n",
       "      <td>1.315789</td>\n",
       "      <td>356.0</td>\n",
       "      <td>3.122807</td>\n",
       "      <td>39.49</td>\n",
       "      <td>-121.21</td>\n",
       "      <td>0.771</td>\n",
       "    </tr>\n",
       "    <tr>\n",
       "      <th>20637</th>\n",
       "      <td>1.7000</td>\n",
       "      <td>17.0</td>\n",
       "      <td>5.205543</td>\n",
       "      <td>1.120092</td>\n",
       "      <td>1007.0</td>\n",
       "      <td>2.325635</td>\n",
       "      <td>39.43</td>\n",
       "      <td>-121.22</td>\n",
       "      <td>0.923</td>\n",
       "    </tr>\n",
       "    <tr>\n",
       "      <th>20638</th>\n",
       "      <td>1.8672</td>\n",
       "      <td>18.0</td>\n",
       "      <td>5.329513</td>\n",
       "      <td>1.171920</td>\n",
       "      <td>741.0</td>\n",
       "      <td>2.123209</td>\n",
       "      <td>39.43</td>\n",
       "      <td>-121.32</td>\n",
       "      <td>0.847</td>\n",
       "    </tr>\n",
       "    <tr>\n",
       "      <th>20639</th>\n",
       "      <td>2.3886</td>\n",
       "      <td>16.0</td>\n",
       "      <td>5.254717</td>\n",
       "      <td>1.162264</td>\n",
       "      <td>1387.0</td>\n",
       "      <td>2.616981</td>\n",
       "      <td>39.37</td>\n",
       "      <td>-121.24</td>\n",
       "      <td>0.894</td>\n",
       "    </tr>\n",
       "  </tbody>\n",
       "</table>\n",
       "<p>20640 rows × 9 columns</p>\n",
       "</div>"
      ],
      "text/plain": [
       "       MedInc  HouseAge  AveRooms  AveBedrms  Population  AveOccup  Latitude  \\\n",
       "0      8.3252      41.0  6.984127   1.023810       322.0  2.555556     37.88   \n",
       "1      8.3014      21.0  6.238137   0.971880      2401.0  2.109842     37.86   \n",
       "2      7.2574      52.0  8.288136   1.073446       496.0  2.802260     37.85   \n",
       "3      5.6431      52.0  5.817352   1.073059       558.0  2.547945     37.85   \n",
       "4      3.8462      52.0  6.281853   1.081081       565.0  2.181467     37.85   \n",
       "...       ...       ...       ...        ...         ...       ...       ...   \n",
       "20635  1.5603      25.0  5.045455   1.133333       845.0  2.560606     39.48   \n",
       "20636  2.5568      18.0  6.114035   1.315789       356.0  3.122807     39.49   \n",
       "20637  1.7000      17.0  5.205543   1.120092      1007.0  2.325635     39.43   \n",
       "20638  1.8672      18.0  5.329513   1.171920       741.0  2.123209     39.43   \n",
       "20639  2.3886      16.0  5.254717   1.162264      1387.0  2.616981     39.37   \n",
       "\n",
       "       Longitude  MedHouseVal  \n",
       "0        -122.23        4.526  \n",
       "1        -122.22        3.585  \n",
       "2        -122.24        3.521  \n",
       "3        -122.25        3.413  \n",
       "4        -122.25        3.422  \n",
       "...          ...          ...  \n",
       "20635    -121.09        0.781  \n",
       "20636    -121.21        0.771  \n",
       "20637    -121.22        0.923  \n",
       "20638    -121.32        0.847  \n",
       "20639    -121.24        0.894  \n",
       "\n",
       "[20640 rows x 9 columns]"
      ]
     },
     "execution_count": 262,
     "metadata": {},
     "output_type": "execute_result"
    }
   ],
   "source": [
    "housing = fetch_california_housing(data_home=None, download_if_missing=True, return_X_y=False, as_frame=True)\n",
    "df = housing['frame']\n",
    "df"
   ]
  },
  {
   "cell_type": "code",
   "execution_count": 263,
   "metadata": {},
   "outputs": [
    {
     "name": "stdout",
     "output_type": "stream",
     "text": [
      "<class 'pandas.core.frame.DataFrame'>\n",
      "RangeIndex: 20640 entries, 0 to 20639\n",
      "Data columns (total 9 columns):\n",
      " #   Column       Non-Null Count  Dtype  \n",
      "---  ------       --------------  -----  \n",
      " 0   MedInc       20640 non-null  float64\n",
      " 1   HouseAge     20640 non-null  float64\n",
      " 2   AveRooms     20640 non-null  float64\n",
      " 3   AveBedrms    20640 non-null  float64\n",
      " 4   Population   20640 non-null  float64\n",
      " 5   AveOccup     20640 non-null  float64\n",
      " 6   Latitude     20640 non-null  float64\n",
      " 7   Longitude    20640 non-null  float64\n",
      " 8   MedHouseVal  20640 non-null  float64\n",
      "dtypes: float64(9)\n",
      "memory usage: 1.4 MB\n"
     ]
    }
   ],
   "source": [
    "# пропусков в данных нет\n",
    "df.info()"
   ]
  },
  {
   "cell_type": "code",
   "execution_count": 264,
   "metadata": {},
   "outputs": [
    {
     "data": {
      "text/plain": [
       "'MedHouseVal'"
      ]
     },
     "execution_count": 264,
     "metadata": {},
     "output_type": "execute_result"
    }
   ],
   "source": [
    "# целевая переменная\n",
    "target = housing['target_names'][0]\n",
    "target"
   ]
  },
  {
   "cell_type": "code",
   "execution_count": 265,
   "metadata": {},
   "outputs": [
    {
     "data": {
      "text/plain": [
       "['MedInc',\n",
       " 'HouseAge',\n",
       " 'AveRooms',\n",
       " 'AveBedrms',\n",
       " 'Population',\n",
       " 'AveOccup',\n",
       " 'Latitude',\n",
       " 'Longitude']"
      ]
     },
     "execution_count": 265,
     "metadata": {},
     "output_type": "execute_result"
    }
   ],
   "source": [
    "# список признаков\n",
    "features_list = housing['feature_names']\n",
    "features_list"
   ]
  },
  {
   "cell_type": "code",
   "execution_count": 266,
   "metadata": {},
   "outputs": [],
   "source": [
    "# собираем признаки и целевую переменную\n",
    "X = df[features_list]\n",
    "y = df[target]"
   ]
  },
  {
   "cell_type": "code",
   "execution_count": 267,
   "metadata": {},
   "outputs": [
    {
     "name": "stdout",
     "output_type": "stream",
     "text": [
      "Тренировочный набор: (15480, 8), (15480,)\n",
      "Тестовый набор: (5160, 8), (5160,)\n"
     ]
    }
   ],
   "source": [
    "# разделяем датасет на трейн и тест\n",
    "X_train, X_test, y_train, y_test = train_test_split(X, y, test_size=0.25, random_state=13)\n",
    "print(f'Тренировочный набор: {X_train.shape}, {y_train.shape}')\n",
    "print(f'Тестовый набор: {X_test.shape}, {y_test.shape}')"
   ]
  },
  {
   "cell_type": "code",
   "execution_count": 268,
   "metadata": {},
   "outputs": [],
   "source": [
    "#стандартизация данных\n",
    "scaler = MinMaxScaler()\n",
    "X_train = scaler.fit_transform(X_train)\n",
    "X_test = scaler.transform(X_test)\n",
    "\n",
    "X_train = torch.FloatTensor(X_train).float()\n",
    "y_train = torch.FloatTensor(y_train.values).float()\n",
    "\n",
    "X_test = torch.FloatTensor(X_test).float()\n",
    "y_test = torch.FloatTensor(y_test.values).float()"
   ]
  },
  {
   "cell_type": "markdown",
   "metadata": {},
   "source": [
    "## 1. Dataset и Dataloader <a id='section_1'></a>"
   ]
  },
  {
   "cell_type": "code",
   "execution_count": 269,
   "metadata": {},
   "outputs": [],
   "source": [
    "# класс датасета\n",
    "class MyOwnClass(torch.utils.data.Dataset):\n",
    "   \n",
    "    def __init__(self, X_data, y_data):\n",
    "        self._X = X_data\n",
    "        self._y = y_data\n",
    "\n",
    "    def __len__(self):\n",
    "        return len(self._X)\n",
    "\n",
    "    def __getitem__(self, idx):\n",
    "        X = self._X[idx] \n",
    "        y = self._y[idx] \n",
    "       \n",
    "        return X, y"
   ]
  },
  {
   "cell_type": "code",
   "execution_count": 270,
   "metadata": {},
   "outputs": [],
   "source": [
    "# создание представителя тренировочного датасета и его dataloader\n",
    "train_dataset = MyOwnClass(X_train, y_train)\n",
    "\n",
    "train_loader = torch.utils.data.DataLoader(train_dataset,\n",
    "                          batch_size=128,\n",
    "                          shuffle=True,\n",
    "                          drop_last=True,\n",
    "                          num_workers=0)"
   ]
  },
  {
   "cell_type": "code",
   "execution_count": 271,
   "metadata": {},
   "outputs": [
    {
     "data": {
      "text/plain": [
       "((tensor([0.2081, 0.6863, 0.0243, 0.0226, 0.0379, 0.0011, 0.1775, 0.6096]),\n",
       "  tensor(2.6800)),\n",
       " torch.Size([8]),\n",
       " torch.Size([]))"
      ]
     },
     "execution_count": 271,
     "metadata": {},
     "output_type": "execute_result"
    }
   ],
   "source": [
    "# элементы тренировочного датасета\n",
    "train_dataset[0], train_dataset[0][0].shape, train_dataset[0][1].shape "
   ]
  },
  {
   "cell_type": "code",
   "execution_count": 272,
   "metadata": {},
   "outputs": [
    {
     "name": "stdout",
     "output_type": "stream",
     "text": [
      "0 Tensor:  tensor([[0.2485, 0.3529, 0.0206,  ..., 0.0017, 0.1180, 0.6414],\n",
      "        [0.2252, 0.3137, 0.0300,  ..., 0.0019, 0.0202, 0.7321],\n",
      "        [0.1435, 0.8235, 0.0309,  ..., 0.0013, 0.8587, 0.0219],\n",
      "        ...,\n",
      "        [0.0814, 0.9412, 0.0060,  ..., 0.0019, 0.1637, 0.6036],\n",
      "        [0.2296, 0.6863, 0.0395,  ..., 0.0013, 0.1711, 0.7042],\n",
      "        [0.2653, 0.5686, 0.0285,  ..., 0.0017, 0.4315, 0.2510]]) torch.Size([128, 8])\n",
      "0 target:  tensor([2.1340, 1.2760, 0.9210, 2.5290, 4.1480, 1.9100, 1.6250, 1.3420, 1.8750,\n",
      "        1.9810, 1.3550, 1.9040, 1.2300, 3.0040, 0.5880, 2.7130, 0.5510, 2.8610,\n",
      "        1.3440, 2.2860, 2.7980, 1.3970, 1.5680, 2.0940, 1.3390, 1.6090, 1.7980,\n",
      "        2.2500, 3.4060, 2.5360, 1.3700, 2.0000, 1.4570, 0.6290, 0.7760, 2.8030,\n",
      "        2.7180, 0.7680, 1.6270, 2.8750, 3.4320, 3.0000, 2.7940, 1.1180, 4.8750,\n",
      "        2.9350, 0.5920, 1.8610, 3.6860, 2.0950, 5.0000, 1.2980, 2.3760, 0.8570,\n",
      "        2.9440, 1.9190, 3.7430, 4.2220, 2.0740, 2.0860, 2.1070, 1.2280, 1.4190,\n",
      "        2.2500, 2.1250, 2.2070, 4.6580, 2.6470, 0.9880, 2.5170, 2.3410, 1.5560,\n",
      "        1.8360, 1.3900, 1.6200, 1.5120, 1.0510, 1.3710, 1.4810, 1.1630, 3.2040,\n",
      "        1.2690, 5.0000, 3.0390, 1.5550, 2.8150, 2.8420, 0.9260, 1.1550, 0.8130,\n",
      "        2.3180, 1.8340, 1.7940, 2.3860, 1.9510, 0.9420, 2.1250, 1.3600, 1.5000,\n",
      "        2.1310, 1.3200, 4.0590, 3.7400, 1.7460, 3.5560, 3.4900, 2.7500, 1.7860,\n",
      "        3.8670, 2.1810, 3.1370, 0.6910, 2.9170, 2.7620, 3.8040, 3.3420, 1.5570,\n",
      "        0.9730, 1.8310, 1.4550, 0.7170, 2.2190, 1.3930, 1.2270, 5.0000, 3.1670,\n",
      "        1.2220, 1.8500]) torch.Size([128])\n"
     ]
    }
   ],
   "source": [
    "# элементы тренировочного даталоадера\n",
    "for idx, batch in enumerate(train_loader):\n",
    "    print(idx, 'Tensor: ', batch[0], batch[0].shape)  # 128 батчей с 8 признаками\n",
    "    print(idx, 'target: ', batch[1], batch[1].shape)  # 128 значений target\n",
    "    break"
   ]
  },
  {
   "cell_type": "code",
   "execution_count": 273,
   "metadata": {},
   "outputs": [],
   "source": [
    "# создание представителя тестового датасета и его dataloader\n",
    "test_dataset = MyOwnClass(X_test, y_test)\n",
    "\n",
    "test_loader = torch.utils.data.DataLoader(test_dataset, \n",
    "                                          batch_size=8,\n",
    "                                          shuffle=False,\n",
    "                                          drop_last=True,\n",
    "                                          num_workers=0)"
   ]
  },
  {
   "cell_type": "markdown",
   "metadata": {},
   "source": [
    "## 2. Построение нейронной сети <a id='section_2'></a>"
   ]
  },
  {
   "cell_type": "code",
   "execution_count": 274,
   "metadata": {},
   "outputs": [],
   "source": [
    "class Perceptron(nn.Module):\n",
    "    def __init__(self, input_dim, output_dim, activation=\"relu\"):\n",
    "        super(Perceptron, self).__init__()\n",
    "        self.fc = nn.Linear(input_dim, output_dim)\n",
    "        self.activation = activation\n",
    "        \n",
    "    def forward(self, x):\n",
    "        x = self.fc(x)\n",
    "        if self.activation==\"relu\":\n",
    "            return F.relu(x)\n",
    "        raise RuntimeError\n",
    "        \n",
    "class FeedForward(nn.Module):\n",
    "    def __init__(self, input_dim, hidden_dim):\n",
    "        super(FeedForward, self).__init__()\n",
    "        self.bn1 = nn.BatchNorm1d(input_dim)\n",
    "        self.fc1 = Perceptron(input_dim, 2*hidden_dim)\n",
    "        self.dp1 = nn.Dropout(0.25)\n",
    "        self.bn2 = nn.BatchNorm1d(2*hidden_dim)\n",
    "        self.fc2 = Perceptron(2*hidden_dim, hidden_dim)\n",
    "        self.dp2 = nn.Dropout(0.2)\n",
    "        self.bn3 = nn.BatchNorm1d(hidden_dim)\n",
    "        self.fc3 = Perceptron(hidden_dim, 1)\n",
    "        \n",
    "    def forward(self, x):\n",
    "        x = self.bn1(x)\n",
    "        x = self.fc1(x)\n",
    "        x = self.dp1(x)\n",
    "        x = self.bn2(x)\n",
    "        x = self.fc2(x)\n",
    "        x = self.dp2(x)\n",
    "        x = self.bn3(x)\n",
    "        x = self.fc3(x)\n",
    "        return x"
   ]
  },
  {
   "cell_type": "code",
   "execution_count": 275,
   "metadata": {},
   "outputs": [],
   "source": [
    "# инициализация модели\n",
    "net = FeedForward(8, 400)\n",
    "\n",
    "# компиляция модели\n",
    "criterion = torch.nn.MSELoss(reduction='sum')\n",
    "optimizer = torch.optim.Adam(net.parameters(), lr=0.001)"
   ]
  },
  {
   "cell_type": "code",
   "execution_count": 276,
   "metadata": {},
   "outputs": [
    {
     "name": "stdout",
     "output_type": "stream",
     "text": [
      "Epoch [1/10]. Step [1/120]. Loss: 4.833,  r2_train: -2.916,  r2_val: -3.014\n",
      "Epoch [1/10]. Step [61/120]. Loss: 1.529,  r2_train: -0.169,  r2_val: 0.376\n",
      "Epoch [2/10]. Step [1/120]. Loss: 0.774,  r2_train: 0.381,  r2_val: 0.526\n",
      "Epoch [2/10]. Step [61/120]. Loss: 0.709,  r2_train: 0.463,  r2_val: 0.515\n",
      "Epoch [3/10]. Step [1/120]. Loss: 0.673,  r2_train: 0.509,  r2_val: 0.611\n",
      "Epoch [3/10]. Step [61/120]. Loss: 0.566,  r2_train: 0.569,  r2_val: 0.602\n",
      "Epoch [4/10]. Step [1/120]. Loss: 0.401,  r2_train: 0.596,  r2_val: 0.643\n",
      "Epoch [4/10]. Step [61/120]. Loss: 0.483,  r2_train: 0.636,  r2_val: 0.661\n",
      "Epoch [5/10]. Step [1/120]. Loss: 0.472,  r2_train: 0.637,  r2_val: 0.670\n",
      "Epoch [5/10]. Step [61/120]. Loss: 0.462,  r2_train: 0.655,  r2_val: 0.642\n",
      "Epoch [6/10]. Step [1/120]. Loss: 0.601,  r2_train: 0.646,  r2_val: 0.682\n",
      "Epoch [6/10]. Step [61/120]. Loss: 0.442,  r2_train: 0.668,  r2_val: 0.653\n",
      "Epoch [7/10]. Step [1/120]. Loss: 0.569,  r2_train: 0.679,  r2_val: 0.717\n",
      "Epoch [7/10]. Step [61/120]. Loss: 0.437,  r2_train: 0.672,  r2_val: 0.684\n",
      "Epoch [8/10]. Step [1/120]. Loss: 0.416,  r2_train: 0.688,  r2_val: 0.732\n",
      "Epoch [8/10]. Step [61/120]. Loss: 0.380,  r2_train: 0.715,  r2_val: 0.721\n",
      "Epoch [9/10]. Step [1/120]. Loss: 0.383,  r2_train: 0.672,  r2_val: 0.723\n",
      "Epoch [9/10]. Step [61/120]. Loss: 0.412,  r2_train: 0.694,  r2_val: 0.678\n",
      "Epoch [10/10]. Step [1/120]. Loss: 0.321,  r2_train: 0.695,  r2_val: 0.735\n",
      "Epoch [10/10]. Step [61/120]. Loss: 0.377,  r2_train: 0.711,  r2_val: 0.728\n",
      "Training is finished!\n"
     ]
    }
   ],
   "source": [
    "num_epochs = 10\n",
    "\n",
    "train_r2 = torchmetrics.R2Score()\n",
    "test_r2 = torchmetrics.R2Score()\n",
    "\n",
    "net.train()\n",
    "\n",
    "for epoch in range(num_epochs):  \n",
    "    \n",
    "    running_loss, running_items = 0.0, 0.0\n",
    "    \n",
    "    for i, data in enumerate(train_loader):\n",
    "        inputs, target = data[0], data[1]\n",
    "        \n",
    "        optimizer.zero_grad()\n",
    "        outputs = net(inputs)\n",
    "        train_r2(outputs.squeeze(), target)\n",
    "        loss = criterion(outputs.squeeze(), target)\n",
    "        loss.backward()\n",
    "        optimizer.step()\n",
    "\n",
    "        # выводим статистику о процессе обучения\n",
    "        running_loss += loss.item()\n",
    "        running_items += len(target)\n",
    "  \n",
    "        # выводим статистику о процессе обучения\n",
    "        if i % 60 == 0:    # печатаем каждые 60 mini-batches\n",
    "            net.eval()\n",
    "            \n",
    "            print(f'Epoch [{epoch + 1}/{num_epochs}]. ' \\\n",
    "                  f'Step [{i + 1}/{len(train_loader)}]. ' \\\n",
    "                  f'Loss: {running_loss / running_items:.3f}, ', \\\n",
    "                  f'r2_train: {train_r2.compute().item():.3f}, ', end = ' ')\n",
    "            running_loss, running_items = 0.0, 0.0\n",
    "            train_r2.reset()\n",
    "\n",
    "            for i, data in enumerate(test_loader):\n",
    "                test_outputs = net(data[0])\n",
    "                test_r2(test_outputs.squeeze(), data[1])\n",
    "            \n",
    "            print(f'r2_val: {test_r2.compute():.3f}')\n",
    "            test_r2.reset()\n",
    "            net.train()\n",
    "        \n",
    "print('Training is finished!')"
   ]
  },
  {
   "cell_type": "markdown",
   "metadata": {},
   "source": [
    "## 3. Модели нейронной сети с разными оптимизаторами <a id='section_3'></a>"
   ]
  },
  {
   "cell_type": "code",
   "execution_count": 277,
   "metadata": {},
   "outputs": [],
   "source": [
    "def train_eval_model(model, optimizer, num_epochs):    \n",
    "    \n",
    "    train_r2 = torchmetrics.R2Score()\n",
    "    test_r2 = torchmetrics.R2Score()\n",
    "    \n",
    "    r2_train_list = []\n",
    "    r2_test_list = []\n",
    "    \n",
    "    for epoch in range(num_epochs):\n",
    "        \n",
    "        model.train()\n",
    "        for i, data in enumerate(train_loader):\n",
    "            inputs, target = data[0], data[1] # входные данные с лейблами\n",
    "            # Обнуляем градиент\n",
    "            optimizer.zero_grad()\n",
    "            # Делаем предсказание\n",
    "            outputs = model(inputs)\n",
    "            #метрика\n",
    "            batch_r2 = train_r2(outputs.squeeze(), target)\n",
    "            # Рассчитываем лосс-функцию (функцию потерь)\n",
    "            loss = criterion(outputs.squeeze(), target)\n",
    "            # Вычисляем градиент\n",
    "            loss.backward()\n",
    "            # Обновляем веса (делаем шаг оптимайзера)\n",
    "            optimizer.step()\n",
    "        \n",
    "        model.eval()\n",
    "        for i, data in enumerate(test_loader):\n",
    "            inputs, target = data[0], data[1]\n",
    "            outputs = model(inputs)\n",
    "            test_r2(outputs.squeeze(), target)\n",
    "\n",
    "        # total r2 over all training batches\n",
    "        total_train_r2 = train_r2.compute()\n",
    "        # total r2 over all training batches\n",
    "        total_test_r2 = test_r2.compute()\n",
    "        \n",
    "        r2_train_list.append(total_train_r2)\n",
    "        r2_test_list.append(total_test_r2)\n",
    "        print(f'Epoch {epoch+1}: r2_train = {total_train_r2}, r2_val = {total_test_r2}')\n",
    "\n",
    "        #reset for next epoch\n",
    "        train_r2.reset()\n",
    "        test_r2.reset()\n",
    "    \n",
    "    return r2_train_list, r2_test_list"
   ]
  },
  {
   "cell_type": "code",
   "execution_count": 278,
   "metadata": {},
   "outputs": [],
   "source": [
    "# функция визуализации метрик\n",
    "def visual_metrics(r2_train_list, r2_test_list, optim):\n",
    "    x = np.arange(1,11,1)\n",
    "    y = r2_train_list\n",
    "    y2 = r2_test_list\n",
    "\n",
    "    plt.plot(x,y,label='R2_train')\n",
    "    plt.plot(x,y2,label='R2_test')\n",
    "\n",
    "    plt.title(f\"NN with optim {optim}\")   \n",
    "    plt.ylabel('R2_score')   \n",
    "    plt.xlabel('epochs')   \n",
    "    plt.legend()\n",
    "    plt.show()"
   ]
  },
  {
   "cell_type": "code",
   "execution_count": 279,
   "metadata": {},
   "outputs": [
    {
     "data": {
      "text/plain": [
       "<torch._C.Generator at 0x1d88d5af7b0>"
      ]
     },
     "execution_count": 279,
     "metadata": {},
     "output_type": "execute_result"
    }
   ],
   "source": [
    "torch.manual_seed(10)"
   ]
  },
  {
   "cell_type": "markdown",
   "metadata": {},
   "source": [
    "#### Оптимизатор SGD"
   ]
  },
  {
   "cell_type": "code",
   "execution_count": 280,
   "metadata": {},
   "outputs": [
    {
     "name": "stdout",
     "output_type": "stream",
     "text": [
      "Epoch 1: r2_train = -0.06717300415039062, r2_val = 0.41210412979125977\n",
      "Epoch 2: r2_train = 0.40845155715942383, r2_val = 0.5378795862197876\n",
      "Epoch 3: r2_train = 0.4770476818084717, r2_val = 0.5311636924743652\n",
      "Epoch 4: r2_train = 0.5188525319099426, r2_val = 0.5454289317131042\n",
      "Epoch 5: r2_train = 0.5516307353973389, r2_val = 0.602898120880127\n",
      "Epoch 6: r2_train = 0.576067328453064, r2_val = 0.6236855983734131\n",
      "Epoch 7: r2_train = 0.6157393455505371, r2_val = 0.6544851660728455\n",
      "Epoch 8: r2_train = 0.6434617042541504, r2_val = 0.6947653293609619\n",
      "Epoch 9: r2_train = 0.6668272614479065, r2_val = 0.722545862197876\n",
      "Epoch 10: r2_train = 0.6796253323554993, r2_val = 0.7246508598327637\n"
     ]
    }
   ],
   "source": [
    "model = FeedForward(8, 400)\n",
    "optimizer = torch.optim.SGD(model.parameters(), lr=0.0001, momentum =0.0)\n",
    "r2_train_list_SGD, r2_test_list_SGD = train_eval_model(model, optimizer, 10)"
   ]
  },
  {
   "cell_type": "code",
   "execution_count": 281,
   "metadata": {},
   "outputs": [
    {
     "data": {
      "image/png": "[encoded data removed]",
      "text/plain": [
       "<Figure size 432x288 with 1 Axes>"
      ]
     },
     "metadata": {
      "needs_background": "light"
     },
     "output_type": "display_data"
    }
   ],
   "source": [
    "visual_metrics(r2_train_list_SGD, r2_test_list_SGD, 'SGD')"
   ]
  },
  {
   "cell_type": "markdown",
   "metadata": {},
   "source": [
    "#### Оптимизатор Adam"
   ]
  },
  {
   "cell_type": "code",
   "execution_count": 282,
   "metadata": {
    "scrolled": true
   },
   "outputs": [
    {
     "name": "stdout",
     "output_type": "stream",
     "text": [
      "Epoch 1: r2_train = 0.14378339052200317, r2_val = 0.4993569254875183\n",
      "Epoch 2: r2_train = 0.49837738275527954, r2_val = 0.6042308807373047\n",
      "Epoch 3: r2_train = 0.5913742184638977, r2_val = 0.6209152936935425\n",
      "Epoch 4: r2_train = 0.6320275664329529, r2_val = 0.6467678546905518\n",
      "Epoch 5: r2_train = 0.6667019128799438, r2_val = 0.6736723184585571\n",
      "Epoch 6: r2_train = 0.6627976894378662, r2_val = 0.687244176864624\n",
      "Epoch 7: r2_train = 0.6817501783370972, r2_val = 0.6925489902496338\n",
      "Epoch 8: r2_train = 0.6976815462112427, r2_val = 0.6562528610229492\n",
      "Epoch 9: r2_train = 0.6979964971542358, r2_val = 0.7489646077156067\n",
      "Epoch 10: r2_train = 0.7120413780212402, r2_val = 0.7177854776382446\n"
     ]
    }
   ],
   "source": [
    "model = FeedForward(8, 400)\n",
    "optimizer = torch.optim.Adam(model.parameters(), lr=0.001)\n",
    "r2_train_list_Adam, r2_test_list_Adam = train_eval_model(model, optimizer, 10)"
   ]
  },
  {
   "cell_type": "code",
   "execution_count": 283,
   "metadata": {},
   "outputs": [
    {
     "data": {
      "image/png": "[encoded data removed]",
      "text/plain": [
       "<Figure size 432x288 with 1 Axes>"
      ]
     },
     "metadata": {
      "needs_background": "light"
     },
     "output_type": "display_data"
    }
   ],
   "source": [
    "visual_metrics(r2_train_list_Adam, r2_test_list_Adam, 'Adam')"
   ]
  },
  {
   "cell_type": "markdown",
   "metadata": {},
   "source": [
    "#### Оптимизатор  RMSprop"
   ]
  },
  {
   "cell_type": "code",
   "execution_count": 284,
   "metadata": {},
   "outputs": [
    {
     "name": "stdout",
     "output_type": "stream",
     "text": [
      "Epoch 1: r2_train = 0.15949010848999023, r2_val = 0.5158732533454895\n",
      "Epoch 2: r2_train = 0.5359159708023071, r2_val = 0.6429702639579773\n",
      "Epoch 3: r2_train = 0.596904993057251, r2_val = 0.6952189207077026\n",
      "Epoch 4: r2_train = 0.6449277400970459, r2_val = 0.6809487342834473\n",
      "Epoch 5: r2_train = 0.6623753309249878, r2_val = 0.7263575196266174\n",
      "Epoch 6: r2_train = 0.6834549903869629, r2_val = 0.7327178716659546\n",
      "Epoch 7: r2_train = 0.6832114458084106, r2_val = 0.6436749696731567\n",
      "Epoch 8: r2_train = 0.693267822265625, r2_val = 0.6488761901855469\n",
      "Epoch 9: r2_train = 0.7011139392852783, r2_val = 0.7382537126541138\n",
      "Epoch 10: r2_train = 0.7053498029708862, r2_val = 0.7562534213066101\n"
     ]
    }
   ],
   "source": [
    "model = FeedForward(8, 400)\n",
    "optimizer = torch.optim.RMSprop(model.parameters(), lr=0.001)\n",
    "r2_train_list_RMS, r2_test_list_RMS = train_eval_model(model, optimizer, 10)"
   ]
  },
  {
   "cell_type": "code",
   "execution_count": 285,
   "metadata": {},
   "outputs": [
    {
     "data": {
      "image/png": "[encoded data removed]",
      "text/plain": [
       "<Figure size 432x288 with 1 Axes>"
      ]
     },
     "metadata": {
      "needs_background": "light"
     },
     "output_type": "display_data"
    }
   ],
   "source": [
    "visual_metrics(r2_train_list_RMS, r2_test_list_RMS, 'RMSprop')"
   ]
  },
  {
   "cell_type": "markdown",
   "metadata": {},
   "source": [
    "## 4. Сводная таблица метрик моделей и вывод <a id='section_4'></a>"
   ]
  },
  {
   "cell_type": "code",
   "execution_count": 286,
   "metadata": {
    "scrolled": true
   },
   "outputs": [
    {
     "data": {
      "text/html": [
       "<div>\n",
       "<style scoped>\n",
       "    .dataframe tbody tr th:only-of-type {\n",
       "        vertical-align: middle;\n",
       "    }\n",
       "\n",
       "    .dataframe tbody tr th {\n",
       "        vertical-align: top;\n",
       "    }\n",
       "\n",
       "    .dataframe thead th {\n",
       "        text-align: right;\n",
       "    }\n",
       "</style>\n",
       "<table border=\"1\" class=\"dataframe\">\n",
       "  <thead>\n",
       "    <tr style=\"text-align: right;\">\n",
       "      <th></th>\n",
       "      <th>r2_train</th>\n",
       "      <th>r2_test</th>\n",
       "    </tr>\n",
       "  </thead>\n",
       "  <tbody>\n",
       "    <tr>\n",
       "      <th>RMSprop</th>\n",
       "      <td>0.705350</td>\n",
       "      <td>0.756253</td>\n",
       "    </tr>\n",
       "    <tr>\n",
       "      <th>SGD</th>\n",
       "      <td>0.679625</td>\n",
       "      <td>0.724651</td>\n",
       "    </tr>\n",
       "    <tr>\n",
       "      <th>Adam</th>\n",
       "      <td>0.712041</td>\n",
       "      <td>0.717785</td>\n",
       "    </tr>\n",
       "  </tbody>\n",
       "</table>\n",
       "</div>"
      ],
      "text/plain": [
       "         r2_train   r2_test\n",
       "RMSprop  0.705350  0.756253\n",
       "SGD      0.679625  0.724651\n",
       "Adam     0.712041  0.717785"
      ]
     },
     "execution_count": 286,
     "metadata": {},
     "output_type": "execute_result"
    }
   ],
   "source": [
    "# сводная таблица метрик моделей\n",
    "metrics_result = pd.DataFrame([{'r2_train': r2_train_list_SGD[-1].item(), 'r2_test': r2_test_list_SGD[-1].item()},\n",
    "                               {'r2_train': r2_train_list_Adam[-1].item(), 'r2_test': r2_test_list_Adam[-1].item()},\n",
    "                               {'r2_train': r2_train_list_RMS[-1].item(), 'r2_test': r2_test_list_RMS[-1].item()}],\n",
    "                              index =['SGD', 'Adam', 'RMSprop'], \n",
    "                              columns =['r2_train', 'r2_test'])\n",
    "\n",
    "metrics_result.sort_values(by='r2_test', ascending=False)"
   ]
  },
  {
   "cell_type": "markdown",
   "metadata": {},
   "source": [
    "**Вывод:** лучшие показатели модели по метрике достигается с применением оптимизатора RMSprop. "
   ]
  }
 ],
 "metadata": {
  "kernelspec": {
   "display_name": "Python 3",
   "language": "python",
   "name": "python3"
  },
  "language_info": {
   "codemirror_mode": {
    "name": "ipython",
    "version": 3
   },
   "file_extension": ".py",
   "mimetype": "text/x-python",
   "name": "python",
   "nbconvert_exporter": "python",
   "pygments_lexer": "ipython3",
   "version": "3.8.5"
  }
 },
 "nbformat": 4,
 "nbformat_minor": 4
}
